{
 "cells": [
  {
   "cell_type": "code",
   "execution_count": 1,
   "metadata": {},
   "outputs": [],
   "source": [
    "import pandas as pd\n",
    "import numpy as np"
   ]
  },
  {
   "cell_type": "code",
   "execution_count": 2,
   "metadata": {},
   "outputs": [],
   "source": [
    "data=pd.read_csv('C:\\\\Users\\\\rabis\\\\Desktop\\\\deep\\\\Churn_Modelling.csv')"
   ]
  },
  {
   "cell_type": "code",
   "execution_count": 3,
   "metadata": {},
   "outputs": [
    {
     "data": {
      "text/html": [
       "<div>\n",
       "<style scoped>\n",
       "    .dataframe tbody tr th:only-of-type {\n",
       "        vertical-align: middle;\n",
       "    }\n",
       "\n",
       "    .dataframe tbody tr th {\n",
       "        vertical-align: top;\n",
       "    }\n",
       "\n",
       "    .dataframe thead th {\n",
       "        text-align: right;\n",
       "    }\n",
       "</style>\n",
       "<table border=\"1\" class=\"dataframe\">\n",
       "  <thead>\n",
       "    <tr style=\"text-align: right;\">\n",
       "      <th></th>\n",
       "      <th>RowNumber</th>\n",
       "      <th>CustomerId</th>\n",
       "      <th>Surname</th>\n",
       "      <th>CreditScore</th>\n",
       "      <th>Geography</th>\n",
       "      <th>Gender</th>\n",
       "      <th>Age</th>\n",
       "      <th>Tenure</th>\n",
       "      <th>Balance</th>\n",
       "      <th>NumOfProducts</th>\n",
       "      <th>HasCrCard</th>\n",
       "      <th>IsActiveMember</th>\n",
       "      <th>EstimatedSalary</th>\n",
       "      <th>Exited</th>\n",
       "    </tr>\n",
       "  </thead>\n",
       "  <tbody>\n",
       "    <tr>\n",
       "      <th>0</th>\n",
       "      <td>1</td>\n",
       "      <td>15634602</td>\n",
       "      <td>Hargrave</td>\n",
       "      <td>619</td>\n",
       "      <td>France</td>\n",
       "      <td>Female</td>\n",
       "      <td>42</td>\n",
       "      <td>2</td>\n",
       "      <td>0.00</td>\n",
       "      <td>1</td>\n",
       "      <td>1</td>\n",
       "      <td>1</td>\n",
       "      <td>101348.88</td>\n",
       "      <td>1</td>\n",
       "    </tr>\n",
       "    <tr>\n",
       "      <th>1</th>\n",
       "      <td>2</td>\n",
       "      <td>15647311</td>\n",
       "      <td>Hill</td>\n",
       "      <td>608</td>\n",
       "      <td>Spain</td>\n",
       "      <td>Female</td>\n",
       "      <td>41</td>\n",
       "      <td>1</td>\n",
       "      <td>83807.86</td>\n",
       "      <td>1</td>\n",
       "      <td>0</td>\n",
       "      <td>1</td>\n",
       "      <td>112542.58</td>\n",
       "      <td>0</td>\n",
       "    </tr>\n",
       "    <tr>\n",
       "      <th>2</th>\n",
       "      <td>3</td>\n",
       "      <td>15619304</td>\n",
       "      <td>Onio</td>\n",
       "      <td>502</td>\n",
       "      <td>France</td>\n",
       "      <td>Female</td>\n",
       "      <td>42</td>\n",
       "      <td>8</td>\n",
       "      <td>159660.80</td>\n",
       "      <td>3</td>\n",
       "      <td>1</td>\n",
       "      <td>0</td>\n",
       "      <td>113931.57</td>\n",
       "      <td>1</td>\n",
       "    </tr>\n",
       "    <tr>\n",
       "      <th>3</th>\n",
       "      <td>4</td>\n",
       "      <td>15701354</td>\n",
       "      <td>Boni</td>\n",
       "      <td>699</td>\n",
       "      <td>France</td>\n",
       "      <td>Female</td>\n",
       "      <td>39</td>\n",
       "      <td>1</td>\n",
       "      <td>0.00</td>\n",
       "      <td>2</td>\n",
       "      <td>0</td>\n",
       "      <td>0</td>\n",
       "      <td>93826.63</td>\n",
       "      <td>0</td>\n",
       "    </tr>\n",
       "    <tr>\n",
       "      <th>4</th>\n",
       "      <td>5</td>\n",
       "      <td>15737888</td>\n",
       "      <td>Mitchell</td>\n",
       "      <td>850</td>\n",
       "      <td>Spain</td>\n",
       "      <td>Female</td>\n",
       "      <td>43</td>\n",
       "      <td>2</td>\n",
       "      <td>125510.82</td>\n",
       "      <td>1</td>\n",
       "      <td>1</td>\n",
       "      <td>1</td>\n",
       "      <td>79084.10</td>\n",
       "      <td>0</td>\n",
       "    </tr>\n",
       "  </tbody>\n",
       "</table>\n",
       "</div>"
      ],
      "text/plain": [
       "   RowNumber  CustomerId   Surname  CreditScore Geography  Gender  Age  \\\n",
       "0          1    15634602  Hargrave          619    France  Female   42   \n",
       "1          2    15647311      Hill          608     Spain  Female   41   \n",
       "2          3    15619304      Onio          502    France  Female   42   \n",
       "3          4    15701354      Boni          699    France  Female   39   \n",
       "4          5    15737888  Mitchell          850     Spain  Female   43   \n",
       "\n",
       "   Tenure    Balance  NumOfProducts  HasCrCard  IsActiveMember  \\\n",
       "0       2       0.00              1          1               1   \n",
       "1       1   83807.86              1          0               1   \n",
       "2       8  159660.80              3          1               0   \n",
       "3       1       0.00              2          0               0   \n",
       "4       2  125510.82              1          1               1   \n",
       "\n",
       "   EstimatedSalary  Exited  \n",
       "0        101348.88       1  \n",
       "1        112542.58       0  \n",
       "2        113931.57       1  \n",
       "3         93826.63       0  \n",
       "4         79084.10       0  "
      ]
     },
     "execution_count": 3,
     "metadata": {},
     "output_type": "execute_result"
    }
   ],
   "source": [
    "data.head()"
   ]
  },
  {
   "cell_type": "code",
   "execution_count": 4,
   "metadata": {},
   "outputs": [
    {
     "data": {
      "text/plain": [
       "RowNumber          0\n",
       "CustomerId         0\n",
       "Surname            0\n",
       "CreditScore        0\n",
       "Geography          0\n",
       "Gender             0\n",
       "Age                0\n",
       "Tenure             0\n",
       "Balance            0\n",
       "NumOfProducts      0\n",
       "HasCrCard          0\n",
       "IsActiveMember     0\n",
       "EstimatedSalary    0\n",
       "Exited             0\n",
       "dtype: int64"
      ]
     },
     "execution_count": 4,
     "metadata": {},
     "output_type": "execute_result"
    }
   ],
   "source": [
    "data.isnull().sum()"
   ]
  },
  {
   "cell_type": "code",
   "execution_count": 5,
   "metadata": {},
   "outputs": [],
   "source": [
    "X=data.iloc[:,3:13].values\n",
    "y=data.iloc[:,13].values"
   ]
  },
  {
   "cell_type": "code",
   "execution_count": 6,
   "metadata": {},
   "outputs": [],
   "source": [
    "from sklearn.preprocessing import LabelEncoder, OneHotEncoder"
   ]
  },
  {
   "cell_type": "code",
   "execution_count": 7,
   "metadata": {},
   "outputs": [],
   "source": [
    "labelencoder_X_1=LabelEncoder()\n",
    "X[:,1]=labelencoder_X_1.fit_transform(X[:,1])"
   ]
  },
  {
   "cell_type": "code",
   "execution_count": 8,
   "metadata": {},
   "outputs": [],
   "source": [
    "labelencoder_X_2=LabelEncoder()\n",
    "X[:,2]=labelencoder_X_2.fit_transform(X[:,2])"
   ]
  },
  {
   "cell_type": "code",
   "execution_count": 9,
   "metadata": {},
   "outputs": [],
   "source": [
    "onehotencoder=OneHotEncoder(categorical_features=[1])\n",
    "X=onehotencoder.fit_transform(X).toarray()\n",
    "X= X[:, 1:]"
   ]
  },
  {
   "cell_type": "code",
   "execution_count": 10,
   "metadata": {},
   "outputs": [
    {
     "data": {
      "text/plain": [
       "array([[0.0000000e+00, 0.0000000e+00, 6.1900000e+02, ..., 1.0000000e+00,\n",
       "        1.0000000e+00, 1.0134888e+05],\n",
       "       [0.0000000e+00, 1.0000000e+00, 6.0800000e+02, ..., 0.0000000e+00,\n",
       "        1.0000000e+00, 1.1254258e+05],\n",
       "       [0.0000000e+00, 0.0000000e+00, 5.0200000e+02, ..., 1.0000000e+00,\n",
       "        0.0000000e+00, 1.1393157e+05],\n",
       "       ...,\n",
       "       [0.0000000e+00, 0.0000000e+00, 7.0900000e+02, ..., 0.0000000e+00,\n",
       "        1.0000000e+00, 4.2085580e+04],\n",
       "       [1.0000000e+00, 0.0000000e+00, 7.7200000e+02, ..., 1.0000000e+00,\n",
       "        0.0000000e+00, 9.2888520e+04],\n",
       "       [0.0000000e+00, 0.0000000e+00, 7.9200000e+02, ..., 1.0000000e+00,\n",
       "        0.0000000e+00, 3.8190780e+04]])"
      ]
     },
     "execution_count": 10,
     "metadata": {},
     "output_type": "execute_result"
    }
   ],
   "source": [
    "X"
   ]
  },
  {
   "cell_type": "code",
   "execution_count": 12,
   "metadata": {},
   "outputs": [],
   "source": [
    "from sklearn.model_selection import train_test_split\n",
    "X_train, X_test, y_train, y_test=train_test_split(X, y, test_size=0.25, random_state=0)"
   ]
  },
  {
   "cell_type": "code",
   "execution_count": 13,
   "metadata": {},
   "outputs": [],
   "source": [
    "from sklearn.preprocessing import StandardScaler\n",
    "sc=StandardScaler()\n",
    "X_train=sc.fit_transform(X_train)\n",
    "X_test=sc.transform(X_test)"
   ]
  },
  {
   "cell_type": "code",
   "execution_count": 14,
   "metadata": {},
   "outputs": [],
   "source": [
    "import keras\n",
    "from keras.models import Sequentialquential\n",
    "from keras.layers import Dense"
   ]
  },
  {
   "cell_type": "code",
   "execution_count": 15,
   "metadata": {},
   "outputs": [],
   "source": [
    "model=Sequential()"
   ]
  },
  {
   "cell_type": "code",
   "execution_count": 16,
   "metadata": {},
   "outputs": [],
   "source": [
    "model.add(Dense(6, activation='relu', input_dim=11))\n",
    "model.add(Dense(6, activation='relu'))\n",
    "model.add(Dense(1, activation='sigmoid'))"
   ]
  },
  {
   "cell_type": "code",
   "execution_count": 22,
   "metadata": {},
   "outputs": [],
   "source": [
    "model.compile(optimizer='adam', loss='binary_crossentropy', metrics=['accuracy'])"
   ]
  },
  {
   "cell_type": "code",
   "execution_count": 23,
   "metadata": {
    "scrolled": false
   },
   "outputs": [
    {
     "name": "stdout",
     "output_type": "stream",
     "text": [
      "Epoch 1/100\n",
      "7500/7500 [==============================] - 2s 303us/step - loss: 0.5076 - acc: 0.7819\n",
      "Epoch 2/100\n",
      "7500/7500 [==============================] - 1s 160us/step - loss: 0.4445 - acc: 0.7963\n",
      "Epoch 3/100\n",
      "7500/7500 [==============================] - 1s 144us/step - loss: 0.4357 - acc: 0.7963\n",
      "Epoch 4/100\n",
      "7500/7500 [==============================] - 1s 144us/step - loss: 0.4317 - acc: 0.7997\n",
      "Epoch 5/100\n",
      "7500/7500 [==============================] - 1s 151us/step - loss: 0.4287 - acc: 0.8068\n",
      "Epoch 6/100\n",
      "7500/7500 [==============================] - 1s 148us/step - loss: 0.4258 - acc: 0.8141\n",
      "Epoch 7/100\n",
      "7500/7500 [==============================] - 1s 146us/step - loss: 0.4223 - acc: 0.8184\n",
      "Epoch 8/100\n",
      "7500/7500 [==============================] - 1s 151us/step - loss: 0.4185 - acc: 0.8228\n",
      "Epoch 9/100\n",
      "7500/7500 [==============================] - 1s 149us/step - loss: 0.4150 - acc: 0.8248\n",
      "Epoch 10/100\n",
      "7500/7500 [==============================] - 1s 147us/step - loss: 0.4117 - acc: 0.8301\n",
      "Epoch 11/100\n",
      "7500/7500 [==============================] - 1s 149us/step - loss: 0.4097 - acc: 0.8292\n",
      "Epoch 12/100\n",
      "7500/7500 [==============================] - 1s 150us/step - loss: 0.4082 - acc: 0.8319\n",
      "Epoch 13/100\n",
      "7500/7500 [==============================] - 1s 150us/step - loss: 0.4070 - acc: 0.8309\n",
      "Epoch 14/100\n",
      "7500/7500 [==============================] - 1s 150us/step - loss: 0.4060 - acc: 0.8320\n",
      "Epoch 15/100\n",
      "7500/7500 [==============================] - 1s 151us/step - loss: 0.4050 - acc: 0.8339\n",
      "Epoch 16/100\n",
      "7500/7500 [==============================] - 1s 181us/step - loss: 0.4034 - acc: 0.8347\n",
      "Epoch 17/100\n",
      "7500/7500 [==============================] - 1s 155us/step - loss: 0.4014 - acc: 0.8360\n",
      "Epoch 18/100\n",
      "7500/7500 [==============================] - 1s 165us/step - loss: 0.3993 - acc: 0.8379\n",
      "Epoch 19/100\n",
      "7500/7500 [==============================] - 1s 175us/step - loss: 0.3963 - acc: 0.8381\n",
      "Epoch 20/100\n",
      "7500/7500 [==============================] - 1s 176us/step - loss: 0.3926 - acc: 0.8404\n",
      "Epoch 21/100\n",
      "7500/7500 [==============================] - 1s 194us/step - loss: 0.3884 - acc: 0.8425\n",
      "Epoch 22/100\n",
      "7500/7500 [==============================] - 1s 190us/step - loss: 0.3835 - acc: 0.8427\n",
      "Epoch 23/100\n",
      "7500/7500 [==============================] - 1s 188us/step - loss: 0.3794 - acc: 0.8439\n",
      "Epoch 24/100\n",
      "7500/7500 [==============================] - 2s 205us/step - loss: 0.3758 - acc: 0.8444\n",
      "Epoch 25/100\n",
      "7500/7500 [==============================] - 1s 184us/step - loss: 0.3723 - acc: 0.8472\n",
      "Epoch 26/100\n",
      "7500/7500 [==============================] - 1s 155us/step - loss: 0.3696 - acc: 0.8473\n",
      "Epoch 27/100\n",
      "7500/7500 [==============================] - 1s 154us/step - loss: 0.3669 - acc: 0.8488\n",
      "Epoch 28/100\n",
      "7500/7500 [==============================] - 1s 152us/step - loss: 0.3642 - acc: 0.8495\n",
      "Epoch 29/100\n",
      "7500/7500 [==============================] - 1s 181us/step - loss: 0.3618 - acc: 0.8503 0s - loss: 0.\n",
      "Epoch 30/100\n",
      "7500/7500 [==============================] - 1s 166us/step - loss: 0.3593 - acc: 0.8524\n",
      "Epoch 31/100\n",
      "7500/7500 [==============================] - 1s 151us/step - loss: 0.3572 - acc: 0.8552\n",
      "Epoch 32/100\n",
      "7500/7500 [==============================] - 1s 156us/step - loss: 0.3543 - acc: 0.8535\n",
      "Epoch 33/100\n",
      "7500/7500 [==============================] - 1s 169us/step - loss: 0.3524 - acc: 0.8561\n",
      "Epoch 34/100\n",
      "7500/7500 [==============================] - 1s 180us/step - loss: 0.3494 - acc: 0.8577\n",
      "Epoch 35/100\n",
      "7500/7500 [==============================] - 1s 184us/step - loss: 0.3474 - acc: 0.8592\n",
      "Epoch 36/100\n",
      "7500/7500 [==============================] - 1s 162us/step - loss: 0.3459 - acc: 0.8573\n",
      "Epoch 37/100\n",
      "7500/7500 [==============================] - 1s 169us/step - loss: 0.3450 - acc: 0.8600\n",
      "Epoch 38/100\n",
      "7500/7500 [==============================] - 1s 195us/step - loss: 0.3440 - acc: 0.8596\n",
      "Epoch 39/100\n",
      "7500/7500 [==============================] - 1s 169us/step - loss: 0.3428 - acc: 0.8600\n",
      "Epoch 40/100\n",
      "7500/7500 [==============================] - 1s 182us/step - loss: 0.3417 - acc: 0.8611\n",
      "Epoch 41/100\n",
      "7500/7500 [==============================] - 1s 156us/step - loss: 0.3404 - acc: 0.8619\n",
      "Epoch 42/100\n",
      "7500/7500 [==============================] - 1s 169us/step - loss: 0.3405 - acc: 0.8632\n",
      "Epoch 43/100\n",
      "7500/7500 [==============================] - 2s 210us/step - loss: 0.3394 - acc: 0.8607\n",
      "Epoch 44/100\n",
      "7500/7500 [==============================] - 1s 190us/step - loss: 0.3391 - acc: 0.8625\n",
      "Epoch 45/100\n",
      "7500/7500 [==============================] - 1s 171us/step - loss: 0.3383 - acc: 0.8625\n",
      "Epoch 46/100\n",
      "7500/7500 [==============================] - 2s 219us/step - loss: 0.3381 - acc: 0.8597\n",
      "Epoch 47/100\n",
      "7500/7500 [==============================] - 1s 190us/step - loss: 0.3372 - acc: 0.8609\n",
      "Epoch 48/100\n",
      "7500/7500 [==============================] - 1s 182us/step - loss: 0.3363 - acc: 0.8612\n",
      "Epoch 49/100\n",
      "7500/7500 [==============================] - 1s 172us/step - loss: 0.3369 - acc: 0.8624\n",
      "Epoch 50/100\n",
      "7500/7500 [==============================] - 1s 177us/step - loss: 0.3368 - acc: 0.8633\n",
      "Epoch 51/100\n",
      "7500/7500 [==============================] - 1s 178us/step - loss: 0.3354 - acc: 0.8635\n",
      "Epoch 52/100\n",
      "7500/7500 [==============================] - 1s 169us/step - loss: 0.3373 - acc: 0.8612\n",
      "Epoch 53/100\n",
      "7500/7500 [==============================] - 1s 191us/step - loss: 0.3359 - acc: 0.8627\n",
      "Epoch 54/100\n",
      "7500/7500 [==============================] - 1s 185us/step - loss: 0.3355 - acc: 0.8631\n",
      "Epoch 55/100\n",
      "7500/7500 [==============================] - 1s 174us/step - loss: 0.3355 - acc: 0.8645\n",
      "Epoch 56/100\n",
      "7500/7500 [==============================] - 1s 168us/step - loss: 0.3348 - acc: 0.8611\n",
      "Epoch 57/100\n",
      "7500/7500 [==============================] - 1s 167us/step - loss: 0.3352 - acc: 0.8633\n",
      "Epoch 58/100\n",
      "7500/7500 [==============================] - 1s 162us/step - loss: 0.3350 - acc: 0.8659\n",
      "Epoch 59/100\n",
      "7500/7500 [==============================] - 2s 294us/step - loss: 0.3344 - acc: 0.8641\n",
      "Epoch 60/100\n",
      "7500/7500 [==============================] - 2s 234us/step - loss: 0.3339 - acc: 0.8644\n",
      "Epoch 61/100\n",
      "7500/7500 [==============================] - 1s 190us/step - loss: 0.3339 - acc: 0.8627\n",
      "Epoch 62/100\n",
      "7500/7500 [==============================] - 2s 200us/step - loss: 0.3338 - acc: 0.8616\n",
      "Epoch 63/100\n",
      "7500/7500 [==============================] - 2s 209us/step - loss: 0.3342 - acc: 0.8648\n",
      "Epoch 64/100\n",
      "7500/7500 [==============================] - 1s 186us/step - loss: 0.3337 - acc: 0.8656\n",
      "Epoch 65/100\n",
      "7500/7500 [==============================] - 1s 181us/step - loss: 0.3334 - acc: 0.8605\n",
      "Epoch 66/100\n",
      "7500/7500 [==============================] - 1s 179us/step - loss: 0.3330 - acc: 0.8640\n",
      "Epoch 67/100\n",
      "7500/7500 [==============================] - 1s 183us/step - loss: 0.3329 - acc: 0.8643\n",
      "Epoch 68/100\n",
      "7500/7500 [==============================] - 1s 180us/step - loss: 0.3328 - acc: 0.8613\n",
      "Epoch 69/100\n",
      "7500/7500 [==============================] - 1s 177us/step - loss: 0.3320 - acc: 0.8624\n",
      "Epoch 70/100\n",
      "7500/7500 [==============================] - 1s 180us/step - loss: 0.3316 - acc: 0.8624\n",
      "Epoch 71/100\n",
      "7500/7500 [==============================] - 1s 185us/step - loss: 0.3320 - acc: 0.8636\n",
      "Epoch 72/100\n",
      "7500/7500 [==============================] - 1s 185us/step - loss: 0.3320 - acc: 0.8628\n",
      "Epoch 73/100\n",
      "7500/7500 [==============================] - 1s 181us/step - loss: 0.3323 - acc: 0.8656\n",
      "Epoch 74/100\n",
      "7500/7500 [==============================] - 1s 180us/step - loss: 0.3317 - acc: 0.8660\n",
      "Epoch 75/100\n",
      "7500/7500 [==============================] - 1s 181us/step - loss: 0.3323 - acc: 0.8623\n",
      "Epoch 76/100\n",
      "7500/7500 [==============================] - 1s 184us/step - loss: 0.3306 - acc: 0.8640\n",
      "Epoch 77/100\n",
      "7500/7500 [==============================] - 2s 255us/step - loss: 0.3311 - acc: 0.8636\n",
      "Epoch 78/100\n",
      "7500/7500 [==============================] - 2s 208us/step - loss: 0.3312 - acc: 0.8629 1s - \n",
      "Epoch 79/100\n",
      "7500/7500 [==============================] - 1s 197us/step - loss: 0.3305 - acc: 0.8653\n",
      "Epoch 80/100\n",
      "7500/7500 [==============================] - 2s 201us/step - loss: 0.3300 - acc: 0.8640\n",
      "Epoch 81/100\n",
      "7500/7500 [==============================] - 2s 221us/step - loss: 0.3302 - acc: 0.8632\n",
      "Epoch 82/100\n"
     ]
    },
    {
     "name": "stdout",
     "output_type": "stream",
     "text": [
      "7500/7500 [==============================] - 1s 194us/step - loss: 0.3302 - acc: 0.8631\n",
      "Epoch 83/100\n",
      "7500/7500 [==============================] - 1s 155us/step - loss: 0.3303 - acc: 0.8617\n",
      "Epoch 84/100\n",
      "7500/7500 [==============================] - 1s 154us/step - loss: 0.3307 - acc: 0.8655\n",
      "Epoch 85/100\n",
      "7500/7500 [==============================] - 1s 158us/step - loss: 0.3304 - acc: 0.8655 1s - loss\n",
      "Epoch 86/100\n",
      "7500/7500 [==============================] - 1s 156us/step - loss: 0.3298 - acc: 0.8640\n",
      "Epoch 87/100\n",
      "7500/7500 [==============================] - 1s 156us/step - loss: 0.3295 - acc: 0.8652\n",
      "Epoch 88/100\n",
      "7500/7500 [==============================] - 1s 157us/step - loss: 0.3297 - acc: 0.8643\n",
      "Epoch 89/100\n",
      "7500/7500 [==============================] - 1s 156us/step - loss: 0.3299 - acc: 0.8631\n",
      "Epoch 90/100\n",
      "7500/7500 [==============================] - 1s 158us/step - loss: 0.3299 - acc: 0.8644\n",
      "Epoch 91/100\n",
      "7500/7500 [==============================] - 1s 156us/step - loss: 0.3276 - acc: 0.8656\n",
      "Epoch 92/100\n",
      "7500/7500 [==============================] - 1s 158us/step - loss: 0.3281 - acc: 0.8636\n",
      "Epoch 93/100\n",
      "7500/7500 [==============================] - 1s 157us/step - loss: 0.3284 - acc: 0.8653\n",
      "Epoch 94/100\n",
      "7500/7500 [==============================] - 1s 156us/step - loss: 0.3286 - acc: 0.8657\n",
      "Epoch 95/100\n",
      "7500/7500 [==============================] - 1s 160us/step - loss: 0.3288 - acc: 0.8653\n",
      "Epoch 96/100\n",
      "7500/7500 [==============================] - 1s 159us/step - loss: 0.3280 - acc: 0.8665\n",
      "Epoch 97/100\n",
      "7500/7500 [==============================] - 1s 158us/step - loss: 0.3279 - acc: 0.8631\n",
      "Epoch 98/100\n",
      "7500/7500 [==============================] - 1s 163us/step - loss: 0.3279 - acc: 0.8664\n",
      "Epoch 99/100\n",
      "7500/7500 [==============================] - 1s 157us/step - loss: 0.3273 - acc: 0.8645\n",
      "Epoch 100/100\n",
      "7500/7500 [==============================] - 1s 167us/step - loss: 0.3281 - acc: 0.8651\n"
     ]
    },
    {
     "data": {
      "text/plain": [
       "<keras.callbacks.History at 0x1fdef639e48>"
      ]
     },
     "execution_count": 23,
     "metadata": {},
     "output_type": "execute_result"
    }
   ],
   "source": [
    "model.fit(X_train, y_train,batch_size=10, epochs=100)"
   ]
  },
  {
   "cell_type": "code",
   "execution_count": 24,
   "metadata": {},
   "outputs": [],
   "source": [
    "y_pred=model.predict(X_test)"
   ]
  },
  {
   "cell_type": "code",
   "execution_count": 27,
   "metadata": {},
   "outputs": [],
   "source": [
    "y_pred=(y_pred>0.5)"
   ]
  },
  {
   "cell_type": "code",
   "execution_count": 28,
   "metadata": {},
   "outputs": [
    {
     "data": {
      "text/plain": [
       "array([[False],\n",
       "       [False],\n",
       "       [False],\n",
       "       ...,\n",
       "       [False],\n",
       "       [False],\n",
       "       [False]])"
      ]
     },
     "execution_count": 28,
     "metadata": {},
     "output_type": "execute_result"
    }
   ],
   "source": [
    "y_pred"
   ]
  },
  {
   "cell_type": "code",
   "execution_count": 31,
   "metadata": {},
   "outputs": [],
   "source": [
    "from sklearn.metrics import confusion_matrix\n",
    "cm=confusion_matrix(y_test, y_pred)"
   ]
  },
  {
   "cell_type": "code",
   "execution_count": 32,
   "metadata": {},
   "outputs": [
    {
     "data": {
      "text/plain": [
       "array([[1881,  110],\n",
       "       [ 240,  269]], dtype=int64)"
      ]
     },
     "execution_count": 32,
     "metadata": {},
     "output_type": "execute_result"
    }
   ],
   "source": [
    "cm"
   ]
  },
  {
   "cell_type": "code",
   "execution_count": null,
   "metadata": {},
   "outputs": [],
   "source": []
  }
 ],
 "metadata": {
  "kernelspec": {
   "display_name": "Python 3",
   "language": "python",
   "name": "python3"
  },
  "language_info": {
   "codemirror_mode": {
    "name": "ipython",
    "version": 3
   },
   "file_extension": ".py",
   "mimetype": "text/x-python",
   "name": "python",
   "nbconvert_exporter": "python",
   "pygments_lexer": "ipython3",
   "version": "3.6.5"
  }
 },
 "nbformat": 4,
 "nbformat_minor": 2
}
